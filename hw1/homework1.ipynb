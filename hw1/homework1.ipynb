{
 "cells": [
  {
   "cell_type": "markdown",
   "metadata": {
    "slideshow": {
     "slide_type": "slide"
    }
   },
   "source": [
    "# Homework 1 - Berkeley STAT 157\n",
    "\n",
    "Handout 1/22/2017, due 1/29/2017 by 4pm in Git by committing to your repository. Please ensure that you add the TA Git account to your repository.\n",
    "\n",
    "1. Write all code in the notebook.\n",
    "1. Write all text in the notebook. You can use MathJax to insert math or generic Markdown to insert figures (it's unlikely you'll need the latter). \n",
    "1. **Execute** the notebook and **save** the results.\n",
    "1. To be safe, print the notebook as PDF and add it to the repository, too. Your repository should contain two files: ``homework1.ipynb`` and ``homework1.pdf``. \n",
    "\n",
    "The TA will return the corrected and annotated homework back to you via Git (please give `rythei` access to your repository)."
   ]
  },
  {
   "cell_type": "code",
   "execution_count": 43,
   "metadata": {
    "ExecuteTime": {
     "end_time": "2019-01-22T19:57:47.188990Z",
     "start_time": "2019-01-22T19:57:46.107420Z"
    },
    "slideshow": {
     "slide_type": "slide"
    }
   },
   "outputs": [],
   "source": [
    "from mxnet import ndarray as nd\n",
    "import numpy as np"
   ]
  },
  {
   "cell_type": "markdown",
   "metadata": {},
   "source": [
    "## 1. Speedtest for vectorization\n",
    "\n",
    "Your goal is to measure the speed of linear algebra operations for different levels of vectorization. You need to use `wait_to_read()` on the output to ensure that the result is computed completely, since NDArray uses asynchronous computation. Please see http://beta.mxnet.io/api/ndarray/_autogen/mxnet.ndarray.NDArray.wait_to_read.html for details. \n",
    "\n",
    "1. Construct two matrices $A$ and $B$ with Gaussian random entries of size $4096 \\times 4096$. \n",
    "1. Compute $C = A B$ using matrix-matrix operations and report the time. \n",
    "1. Compute $C = A B$, treating $A$ as a matrix but computing the result for each column of $B$ one at a time. Report the time.\n",
    "1. Compute $C = A B$, treating $A$ and $B$ as collections of vectors. Report the time.\n",
    "1. Bonus question - what changes if you execute this on a GPU?"
   ]
  },
  {
   "cell_type": "code",
   "execution_count": 7,
   "metadata": {
    "slideshow": {
     "slide_type": "-"
    }
   },
   "outputs": [
    {
     "name": "stdout",
     "output_type": "stream",
     "text": [
      "0.010117053985595703\n",
      "3.6122050285339355\n"
     ]
    }
   ],
   "source": [
    "import time\n",
    "tic = time.time()\n",
    "a = nd.random.normal(0, 1, (4096, 4096))\n",
    "b = nd.random.normal(0, 1, (4096, 4096))\n",
    "c = nd.dot(a, b)\n",
    "print(time.time() - tic)\n",
    "c.wait_to_read()\n",
    "print(time.time() - tic)"
   ]
  },
  {
   "cell_type": "code",
   "execution_count": 7,
   "metadata": {},
   "outputs": [
    {
     "name": "stdout",
     "output_type": "stream",
     "text": [
      "4.0372560024261475\n",
      "73.63805103302002\n"
     ]
    }
   ],
   "source": [
    "tic = time.time()\n",
    "b_t = b.T\n",
    "c = nd.zeros((4096, 4096))\n",
    "for i in range(4096):\n",
    "    c[i] = nd.dot(a, b_t[i])\n",
    "c = c.T\n",
    "print(time.time() - tic)\n",
    "c.wait_to_read()\n",
    "print(time.time() - tic)"
   ]
  },
  {
   "cell_type": "code",
   "execution_count": 44,
   "metadata": {},
   "outputs": [
    {
     "name": "stdout",
     "output_type": "stream",
     "text": [
      "4665.045080900192\n"
     ]
    }
   ],
   "source": [
    "tic = time.time()\n",
    "b_t = b.T\n",
    "c = nd.zeros((4096, 4096))\n",
    "for i in range(4096):\n",
    "    for j in range(4096):\n",
    "        c[j, i] = nd.sum(a[j] * b_t[i])\n",
    "c.wait_to_read()\n",
    "print(time.time() - tic)"
   ]
  },
  {
   "cell_type": "markdown",
   "metadata": {},
   "source": [
    "## 2. Semidefinite Matrices\n",
    "\n",
    "Assume that $A \\in \\mathbb{R}^{m \\times n}$ is an arbitrary matrix and that $D \\in \\mathbb{R}^{n \\times n}$ is a diagonal matrix with nonnegative entries. \n",
    "\n",
    "1. Prove that $B = A D A^\\top$ is a positive semidefinite matrix. \n",
    "1. When would it be useful to work with $B$ and when is it better to use $A$ and $D$?"
   ]
  },
  {
   "cell_type": "markdown",
   "metadata": {},
   "source": [
    "saved as pdf"
   ]
  },
  {
   "cell_type": "markdown",
   "metadata": {},
   "source": [
    "## 3. MXNet on GPUs\n",
    "\n",
    "1. Install GPU drivers (if needed)\n",
    "1. Install MXNet on a GPU instance\n",
    "1. Display `!nvidia-smi`\n",
    "1. Create a $2 \\times 2$ matrix on the GPU and print it. See http://d2l.ai/chapter_deep-learning-computation/use-gpu.html for details."
   ]
  },
  {
   "cell_type": "markdown",
   "metadata": {},
   "source": [
    "Tried to run GPU, got up to gpu access on AWS but had trouble connecting it with jupyter notebook"
   ]
  },
  {
   "cell_type": "code",
   "execution_count": 15,
   "metadata": {},
   "outputs": [
    {
     "name": "stdout",
     "output_type": "stream",
     "text": [
      "/bin/sh: nvidia-smi: command not found\n",
      "\n",
      "[[0. 0.]\n",
      " [0. 0.]]\n",
      "<NDArray 2x2 @cpu(0)>\n"
     ]
    }
   ],
   "source": [
    "!nvidia-smi\n",
    "print(nd.zeros((2,2)))"
   ]
  },
  {
   "cell_type": "markdown",
   "metadata": {},
   "source": [
    "## 4. NDArray and NumPy \n",
    "\n",
    "Your goal is to measure the speed penalty between MXNet Gluon and Python when converting data between both. We are going to do this as follows:\n",
    "\n",
    "1. Create two Gaussian random matrices $A, B$ of size $4096 \\times 4096$ in NDArray. \n",
    "1. Compute a vector $\\mathbf{c} \\in \\mathbb{R}^{4096}$ where $c_i = \\|A B_{i\\cdot}\\|^2$ where $\\mathbf{c}$ is a **NumPy** vector.\n",
    "\n",
    "To see the difference in speed due to Python perform the following two experiments and measure the time:\n",
    "\n",
    "1. Compute $\\|A B_{i\\cdot}\\|^2$ one at a time and assign its outcome to $\\mathbf{c}_i$ directly.\n",
    "1. Use an intermediate storage vector $\\mathbf{d}$ in NDArray for assignments and copy to NumPy at the end."
   ]
  },
  {
   "cell_type": "code",
   "execution_count": 42,
   "metadata": {},
   "outputs": [
    {
     "name": "stdout",
     "output_type": "stream",
     "text": [
      "72.5136399269104\n"
     ]
    }
   ],
   "source": [
    "tic = time.time()\n",
    "a = nd.random.normal(0, 1, (4096, 4096))\n",
    "b = nd.random.normal(0, 1, (4096, 4096))\n",
    "c = np.zeros(4096)\n",
    "b_t = b.T\n",
    "for i in range(4096):\n",
    "    vec = nd.dot(a, b_t[i])\n",
    "    c[i] = vec.norm().asscalar()\n",
    "print(time.time() - tic)"
   ]
  },
  {
   "cell_type": "code",
   "execution_count": 41,
   "metadata": {},
   "outputs": [
    {
     "name": "stdout",
     "output_type": "stream",
     "text": [
      "0.051258087158203125\n",
      "66.14804792404175\n"
     ]
    }
   ],
   "source": [
    "tic = time.time()\n",
    "a = nd.random.normal(0, 1, (4096, 4096))\n",
    "b = nd.random.normal(0, 1, (4096, 4096))\n",
    "c = nd.zeros(4096)\n",
    "b_t = b.T\n",
    "print(time.time() - tic)\n",
    "for i in range(4096):\n",
    "    vec = nd.dot(a, b_t[i])\n",
    "    c[i] = vec.norm()\n",
    "c = c.asnumpy()\n",
    "print(time.time() - tic)"
   ]
  },
  {
   "cell_type": "markdown",
   "metadata": {},
   "source": [
    "## 5. Memory efficient computation\n",
    "\n",
    "We want to compute $C \\leftarrow A \\cdot B + C$, where $A, B$ and $C$ are all matrices. Implement this in the most memory efficient manner. Pay attention to the following two things:\n",
    "\n",
    "1. Do not allocate new memory for the new value of $C$.\n",
    "1. Do not allocate new memory for intermediate results if possible."
   ]
  },
  {
   "cell_type": "code",
   "execution_count": 45,
   "metadata": {},
   "outputs": [
    {
     "data": {
      "text/plain": [
       "\n",
       "[[-136.53722     72.59831     -2.1823547 ...  -89.08128     42.181435\n",
       "   -16.420313 ]\n",
       " [ -97.03846      6.6538477   70.85523   ...  -51.745754   -44.10528\n",
       "    20.53577  ]\n",
       " [  16.992313   -10.352718    42.555477  ...  -53.673546    49.54098\n",
       "   -23.488247 ]\n",
       " ...\n",
       " [ -73.42694    124.763466    47.24751   ...   12.638767   -30.496918\n",
       "    56.542774 ]\n",
       " [ 130.45993     23.206944     1.0797606 ...  -74.54492      5.094515\n",
       "    48.01982  ]\n",
       " [ -49.40635     27.739756    68.296074  ...    9.620451   -68.24221\n",
       "    65.92578  ]]\n",
       "<NDArray 4096x4096 @cpu(0)>"
      ]
     },
     "execution_count": 45,
     "metadata": {},
     "output_type": "execute_result"
    }
   ],
   "source": [
    "a = nd.random.normal(0, 1, (4096, 4096))\n",
    "b = nd.random.normal(0, 1, (4096, 4096))\n",
    "c = nd.random.normal(0, 1, (4096, 4096))\n",
    "nd.elemwise_add(nd.dot(a, b), c, out = c)\n",
    "c"
   ]
  },
  {
   "cell_type": "markdown",
   "metadata": {},
   "source": [
    "## 6. Broadcast Operations\n",
    "\n",
    "In order to perform polynomial fitting we want to compute a design matrix $A$ with \n",
    "\n",
    "$$A_{ij} = x_i^j$$\n",
    "\n",
    "Our goal is to implement this **without a single for loop** entirely using vectorization and broadcast. Here $1 \\leq j \\leq 20$ and $x = \\{-10, -9.9, \\ldots 10\\}$. Implement code that generates such a matrix."
   ]
  },
  {
   "cell_type": "code",
   "execution_count": 40,
   "metadata": {},
   "outputs": [
    {
     "data": {
      "text/plain": [
       "\n",
       "[[-1.0000000e+01  1.0000000e+02 -1.0000000e+03 ...  9.9999998e+17\n",
       "  -1.0000000e+19  1.0000000e+20]\n",
       " [-9.8999996e+00  9.8009995e+01 -9.7029889e+02 ...  8.3451318e+17\n",
       "  -8.2616803e+18  8.1790629e+19]\n",
       " [-9.8000002e+00  9.6040001e+01 -9.4119208e+02 ...  6.9513558e+17\n",
       "  -6.8123289e+18  6.6760824e+19]\n",
       " ...\n",
       " [ 9.7000008e+00  9.4090012e+01  9.1267322e+02 ...  5.7795210e+17\n",
       "   5.6061355e+18  5.4379519e+19]\n",
       " [ 9.8000011e+00  9.6040024e+01  9.4119232e+02 ...  6.9513681e+17\n",
       "   6.8123415e+18  6.6760952e+19]\n",
       " [ 9.8999996e+00  9.8009995e+01  9.7029889e+02 ...  8.3451318e+17\n",
       "   8.2616803e+18  8.1790629e+19]]\n",
       "<NDArray 200x20 @cpu(0)>"
      ]
     },
     "execution_count": 40,
     "metadata": {},
     "output_type": "execute_result"
    }
   ],
   "source": [
    "x = nd.arange(-10, 10, .1).reshape((200,1))\n",
    "j = nd.arange(1, 21).reshape((1, 20))\n",
    "nd.broadcast_power(x, j)"
   ]
  },
  {
   "cell_type": "code",
   "execution_count": null,
   "metadata": {},
   "outputs": [],
   "source": []
  }
 ],
 "metadata": {
  "celltoolbar": "Slideshow",
  "kernelspec": {
   "display_name": "Python 3",
   "language": "python",
   "name": "python3"
  },
  "language_info": {
   "codemirror_mode": {
    "name": "ipython",
    "version": 3
   },
   "file_extension": ".py",
   "mimetype": "text/x-python",
   "name": "python",
   "nbconvert_exporter": "python",
   "pygments_lexer": "ipython3",
   "version": "3.6.8"
  }
 },
 "nbformat": 4,
 "nbformat_minor": 2
}
