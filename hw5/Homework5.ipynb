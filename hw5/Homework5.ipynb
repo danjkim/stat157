{
 "cells": [
  {
   "cell_type": "code",
   "execution_count": 1,
   "metadata": {},
   "outputs": [
    {
     "name": "stderr",
     "output_type": "stream",
     "text": [
      "/Users/Derek/anaconda3/lib/python3.6/site-packages/h5py/__init__.py:36: FutureWarning: Conversion of the second argument of issubdtype from `float` to `np.floating` is deprecated. In future, it will be treated as `np.float64 == np.dtype(float).type`.\n",
      "  from ._conv import register_converters as _register_converters\n"
     ]
    }
   ],
   "source": [
    "%matplotlib inline\n",
    "import d2l\n",
    "import mxnet as mx\n",
    "from mxnet import autograd, gluon, init, nd\n",
    "from mxnet.gluon import data as gdata, loss as gloss, nn, utils\n",
    "import numpy as np\n",
    "import matplotlib.pyplot as plt\n",
    "\n",
    "mnist_train = gdata.vision.FashionMNIST(train=True)\n",
    "mnist_test = gdata.vision.FashionMNIST(train=False)"
   ]
  },
  {
   "cell_type": "markdown",
   "metadata": {},
   "source": [
    "1.1"
   ]
  },
  {
   "cell_type": "code",
   "execution_count": 2,
   "metadata": {},
   "outputs": [],
   "source": [
    "def loss(o, y):\n",
    "    loss = gluon.loss.LogisticLoss()\n",
    "    return loss(o, y)"
   ]
  },
  {
   "cell_type": "markdown",
   "metadata": {},
   "source": [
    "1.2"
   ]
  },
  {
   "cell_type": "code",
   "execution_count": 3,
   "metadata": {},
   "outputs": [],
   "source": [
    "def grad(forward_func, o):\n",
    "    o.attach_grad()\n",
    "    with autograd.record():\n",
    "        z = forward_func(o, nd.array([1]))\n",
    "    z.backward()\n",
    "    return o.grad"
   ]
  },
  {
   "cell_type": "code",
   "execution_count": 4,
   "metadata": {},
   "outputs": [],
   "source": [
    "zeros = nd.arange(-5, 5, step=0.11)\n",
    "oneDerivs = nd.zeros(zeros.shape)\n",
    "for i in range(len(zeros)):\n",
    "    oneDerivs[i] = grad(loss, zeros[i]).asscalar()"
   ]
  },
  {
   "cell_type": "code",
   "execution_count": 5,
   "metadata": {},
   "outputs": [
    {
     "data": {
      "image/png": "[encoded data removed]",
      "text/plain": [
       "<Figure size 432x288 with 1 Axes>"
      ]
     },
     "metadata": {},
     "output_type": "display_data"
    }
   ],
   "source": [
    "plt.plot(zeros.asnumpy(), oneDerivs.asnumpy())\n",
    "plt.xlabel('Values of o')\n",
    "plt.ylabel('Derivatives')\n",
    "plt.title('o vs. Derivatives for y = 1')\n",
    "plt.show()"
   ]
  },
  {
   "cell_type": "markdown",
   "metadata": {},
   "source": [
    "1.3"
   ]
  },
  {
   "cell_type": "code",
   "execution_count": 7,
   "metadata": {},
   "outputs": [],
   "source": [
    "shirt_sweater = []\n",
    "sandal_sneaker = []\n",
    "#shirt: 6, sweater: 2, sandal: 5, sneaker: 7\n",
    "for i in range(len(mnist_train._label)):\n",
    "    label = mnist_train._label[i]\n",
    "    if label == 6 or label == 2:\n",
    "        shirt_sweater.append(i)\n",
    "    elif label == 5 or label == 7:\n",
    "        sandal_sneaker.append(i)\n",
    "\n",
    "class_1_train = mnist_train[shirt_sweater][0]\n",
    "class_neg1_train = mnist_train[sandal_sneaker][0]\n",
    "\n",
    "class_1_train = class_1_train.reshape(12000, 784)\n",
    "class_neg1_train = class_neg1_train.reshape(12000, 784)\n"
   ]
  },
  {
   "cell_type": "code",
   "execution_count": 8,
   "metadata": {},
   "outputs": [],
   "source": [
    "class_1_test_data = []\n",
    "class_neg1_test_data = []\n",
    "#shirt: 6, sweater: 2, sandal: 5, sneaker: 7\n",
    "for i in range(len(mnist_test._label)):\n",
    "    label = mnist_test._label[i]\n",
    "    if label == 6 or label == 2:\n",
    "        class_1_test_data.append(i)\n",
    "    elif label == 5 or label == 7:\n",
    "        class_neg1_test_data.append(i)\n"
   ]
  },
  {
   "cell_type": "code",
   "execution_count": 9,
   "metadata": {},
   "outputs": [
    {
     "data": {
      "text/plain": [
       "\n",
       "[[ 0  0  0 ...  0  0  0]\n",
       " [ 0  0  0 ... 56  0  0]\n",
       " [ 0  0  0 ...  0  0  0]\n",
       " ...\n",
       " [ 0  0  0 ... 34  0  0]\n",
       " [ 0  0  0 ...  0  0  0]\n",
       " [ 0  0  0 ...  0  0  0]]\n",
       "<NDArray 2000x784 @cpu(0)>"
      ]
     },
     "execution_count": 9,
     "metadata": {},
     "output_type": "execute_result"
    }
   ],
   "source": [
    "class_1_test = mnist_test[class_1_test_data][0]\n",
    "class_neg1_test = mnist_test[class_neg1_test_data][0]\n",
    "\n",
    "class_1_test = class_1_test.reshape(2000, 784)\n",
    "class_neg1_test = class_neg1_test.reshape(2000, 784)\n",
    "class_1_test"
   ]
  },
  {
   "cell_type": "markdown",
   "metadata": {},
   "source": [
    "1.4"
   ]
  },
  {
   "cell_type": "code",
   "execution_count": 30,
   "metadata": {},
   "outputs": [
    {
     "name": "stdout",
     "output_type": "stream",
     "text": [
      "(24000, 784) (24000,)\n"
     ]
    }
   ],
   "source": [
    "train_data = nd.concat(class_1_train, class_neg1_train, dim = 0)\n",
    "train_data = train_data.astype('float32')\n",
    "train_labels = nd.concat(nd.ones(len(class_1_train)), nd.ones(len(class_neg1_train))*-1, dim = 0)\n",
    "train_labels = train_labels.astype('float32')\n",
    "print(train_data.shape, train_labels.shape)"
   ]
  },
  {
   "cell_type": "code",
   "execution_count": 34,
   "metadata": {},
   "outputs": [
    {
     "name": "stdout",
     "output_type": "stream",
     "text": [
      "(4000, 784) (4000,)\n"
     ]
    }
   ],
   "source": [
    "test_data = nd.concat(class_1_test, class_neg1_test, dim = 0)\n",
    "test_data = test_data.astype('float32')\n",
    "test_labels = nd.concat(nd.ones(len(class_1_test_data)), nd.ones(len(class_neg1_test_data))*-1, dim = 0)\n",
    "print(test_data.shape, test_labels.shape)\n",
    "\n",
    "def makeTrainData(class1, class0, size, l):\n",
    "    class1 = class1[:l*size]\n",
    "    class0 = class0[:(1-l)*size]\n",
    "    train_data = nd.concat(class1, class0, dim = 0)\n",
    "    train_data = train_data.astype('float32')\n",
    "    train_labels = nd.concat(nd.ones(len(class1)), nd.ones(len(class0))*-1, dim = 0)\n",
    "    train_labels = train_labels.astype('float32')\n",
    "    return (train_data, train_labels)\n",
    "\n"
   ]
  },
  {
   "cell_type": "code",
   "execution_count": 60,
   "metadata": {},
   "outputs": [],
   "source": [
    "def makeTrainData(class1, class0, size, l):\n",
    "    class1 = class1[:int(l*size)]\n",
    "    class0 = class0[:int((1-l)*size)]\n",
    "\n",
    "    train_data = nd.concat(class1, class0, dim = 0)\n",
    "    train_data = train_data.astype('float32')\n",
    "    train_labels = nd.concat(nd.ones(len(class1)), nd.ones(len(class0))*-1, dim = 0)\n",
    "    train_labels = train_labels.astype('float32')\n",
    "    return (train_data, train_labels)\n",
    "\n",
    "train_data, train_labels = makeTrainData(class_1_train, class_neg1_train, 12000, .5)\n"
   ]
  },
  {
   "cell_type": "code",
   "execution_count": 80,
   "metadata": {},
   "outputs": [],
   "source": [
    "def logistic(z):\n",
    "    return 1. / (1. + nd.exp(-z))\n",
    "\n",
    "def train_and_predict(Xtrain, ytrain, Xtest, ytest):\n",
    "    batch_size = 64\n",
    "    num_epochs = 20\n",
    "    \n",
    "    train_dataset = gdata.ArrayDataset(Xtrain, ytrain)\n",
    "    train_iter = gdata.DataLoader(train_dataset, batch_size, shuffle=True)\n",
    "\n",
    "    def loss(o, y):\n",
    "        loss = gluon.loss.LogisticLoss()\n",
    "        return loss(o, y)\n",
    "\n",
    "    def net():\n",
    "        net = nn.Sequential()\n",
    "        net.add(nn.Dense(1))\n",
    "        net.initialize(init.Normal(sigma=1))\n",
    "        return net\n",
    "\n",
    "    net = net()\n",
    "    trainer = gluon.Trainer(net.collect_params(), 'sgd', {'learning_rate': 0.1})\n",
    "    for epoch in range(num_epochs):\n",
    "        for X, y in train_iter:\n",
    "            with autograd.record():\n",
    "                l = loss(net(X), y)\n",
    "            l.backward()\n",
    "            trainer.step(batch_size)\n",
    "        l = loss(net(Xtrain), ytrain)\n",
    "        #print('epoch %d, loss: %f' % (epoch, l.mean().asnumpy()))\n",
    "    \n",
    "    pred_labels = net(Xtest)\n",
    "    predictions = []\n",
    "    for i in pred_labels:\n",
    "        if i.asscalar() > 0:\n",
    "            predictions.append(1)\n",
    "        else:\n",
    "            predictions.append(-1)\n",
    "    predictions = np.asarray(predictions)\n",
    "    actual = ytest.astype(\"int\").asnumpy()\n",
    "\n",
    "    return np.count_nonzero(predictions == actual)/len(predictions)"
   ]
  },
  {
   "cell_type": "code",
   "execution_count": 65,
   "metadata": {},
   "outputs": [
    {
     "data": {
      "text/plain": [
       "0.9995"
      ]
     },
     "execution_count": 65,
     "metadata": {},
     "output_type": "execute_result"
    }
   ],
   "source": [
    "# full test set\n",
    "train_data, train_labels = makeTrainData(class_1_train, class_neg1_train, 24000, .5)\n",
    "\n",
    "train_and_predict(train_data, train_labels, test_data, test_labels)"
   ]
  },
  {
   "cell_type": "code",
   "execution_count": 66,
   "metadata": {},
   "outputs": [
    {
     "data": {
      "text/plain": [
       "0.99875"
      ]
     },
     "execution_count": 66,
     "metadata": {},
     "output_type": "execute_result"
    }
   ],
   "source": [
    "# half test set\n",
    "train_data, train_labels = makeTrainData(class_1_train, class_neg1_train, 12000, .5)\n",
    "\n",
    "train_and_predict(train_data, train_labels, test_data, test_labels)"
   ]
  },
  {
   "cell_type": "markdown",
   "metadata": {},
   "source": [
    "2.1"
   ]
  },
  {
   "cell_type": "code",
   "execution_count": 67,
   "metadata": {},
   "outputs": [],
   "source": [
    "lambdas = [.05, .1, .2, .3, .4, .5, .6, .7, .8, .9, .95]\n",
    "\n",
    "datasets = list(map(lambda x: makeTrainData(class_1_train, class_neg1_train, 12000, x), lambdas))"
   ]
  },
  {
   "cell_type": "markdown",
   "metadata": {},
   "source": [
    "2.2"
   ]
  },
  {
   "cell_type": "code",
   "execution_count": 68,
   "metadata": {},
   "outputs": [
    {
     "name": "stdout",
     "output_type": "stream",
     "text": [
      "0.05 accuracy: 0.99575\n",
      "0.1 accuracy: 0.99875\n",
      "0.2 accuracy: 0.999\n",
      "0.3 accuracy: 0.99875\n",
      "0.4 accuracy: 0.99875\n",
      "0.5 accuracy: 0.999\n",
      "0.6 accuracy: 0.999\n",
      "0.7 accuracy: 0.99875\n",
      "0.8 accuracy: 0.99825\n",
      "0.9 accuracy: 0.996\n",
      "0.95 accuracy: 0.9935\n"
     ]
    }
   ],
   "source": [
    "i = 0\n",
    "for train_data, train_labels in datasets:\n",
    "    print(str(lambdas[i]) + \" accuracy: \" + str(train_and_predict(train_data, train_labels, test_data, test_labels)))\n",
    "    i = i + 1"
   ]
  },
  {
   "cell_type": "markdown",
   "metadata": {},
   "source": [
    "3.1. We want to reweight all of our training data by exp(min(f(xi), c))"
   ]
  },
  {
   "cell_type": "markdown",
   "metadata": {},
   "source": [
    "3.2."
   ]
  },
  {
   "cell_type": "code",
   "execution_count": 97,
   "metadata": {},
   "outputs": [
    {
     "name": "stdout",
     "output_type": "stream",
     "text": [
      "\n",
      "[ 1.  1.  1. ... -1. -1. -1.]\n",
      "<NDArray 16000 @cpu(0)>\n",
      "epoch 0, loss: 3963.504395\n",
      "epoch 1, loss: 3580.795898\n",
      "epoch 2, loss: 913.939026\n",
      "epoch 3, loss: 1298.052734\n",
      "epoch 4, loss: 5932.034180\n",
      "epoch 5, loss: 1004.988037\n",
      "epoch 6, loss: 6137.037109\n",
      "epoch 7, loss: 2826.469971\n",
      "epoch 8, loss: 10062.743164\n",
      "epoch 9, loss: 6568.000000\n",
      "epoch 10, loss: 1387.622192\n",
      "epoch 11, loss: 4624.299805\n",
      "epoch 12, loss: 3747.817871\n",
      "epoch 13, loss: 3906.764648\n",
      "epoch 14, loss: 6302.432617\n",
      "epoch 15, loss: 3515.139404\n",
      "epoch 16, loss: 8976.093750\n",
      "epoch 17, loss: 3615.606201\n",
      "epoch 18, loss: 999.907471\n",
      "epoch 19, loss: 1323.540894\n"
     ]
    },
    {
     "data": {
      "text/plain": [
       "\n",
       "[[ 2700.04   ]\n",
       " [  893.33295]\n",
       " [-2629.5718 ]\n",
       " ...\n",
       " [ 2640.728  ]\n",
       " [ 1266.9835 ]\n",
       " [ 2122.7158 ]]\n",
       "<NDArray 16000x1 @cpu(0)>"
      ]
     },
     "execution_count": 97,
     "metadata": {},
     "output_type": "execute_result"
    }
   ],
   "source": [
    "# unbiased\n",
    "ub_train_data, ub_train_labels = makeTrainData(class_1_train, class_neg1_train, 12000, .5)\n",
    "\n",
    "#biased\n",
    "biased_train_data, biased_train_labels = makeTrainData(class_1_train, class_neg1_train, 12000, .1)\n",
    "\n",
    "#for binary classifier on test vs train\n",
    "train_data = nd.concat(ub_train_data, test_data, dim = 0)\n",
    "ub1_train_data = train_data.astype('float32')\n",
    "train_labels = nd.concat(nd.ones(len(ub_train_data)), nd.ones(len(test_data))*-1, dim = 0)\n",
    "ub1_train_labels = train_labels.astype('float32')\n",
    "                         \n",
    "train_data = nd.concat(biased_train_data, test_data, dim = 0)\n",
    "b1_train_data = train_data.astype('float32')\n",
    "train_labels = nd.concat(nd.ones(len(biased_train_data)), nd.ones(len(test_data))*-1, dim = 0)\n",
    "b1_train_labels = train_labels.astype('float32')\n",
    "\n",
    "def train_for_weights(Xtrain, ytrain):\n",
    "    batch_size = 16\n",
    "    num_epochs = 20\n",
    "    \n",
    "    print(ytrain)\n",
    "    train_dataset = gdata.ArrayDataset(Xtrain, ytrain)\n",
    "    train_iter = gdata.DataLoader(train_dataset, batch_size, shuffle=True)\n",
    "\n",
    "    def loss(o, y):\n",
    "        loss = gluon.loss.LogisticLoss()\n",
    "        return loss(o, y)\n",
    "\n",
    "    def net():\n",
    "        net = nn.Sequential()\n",
    "        net.add(nn.Dense(1))\n",
    "        net.initialize(init.Normal(sigma=1))\n",
    "        return net\n",
    "\n",
    "    net = net()\n",
    "    trainer = gluon.Trainer(net.collect_params(), 'sgd', {'learning_rate': 0.01})\n",
    "    for epoch in range(num_epochs):\n",
    "        for X, y in train_iter:\n",
    "            with autograd.record():\n",
    "                l = loss(net(X), y)\n",
    "            l.backward()\n",
    "            trainer.step(batch_size)\n",
    "        l = loss(net(Xtrain), ytrain)\n",
    "        print('epoch %d, loss: %f' % (epoch, l.mean().asnumpy()))\n",
    "    \n",
    "    return net(Xtrain)\n",
    "                         \n",
    "train_for_weights(ub1_train_data, ub1_train_labels)"
   ]
  },
  {
   "cell_type": "code",
   "execution_count": 98,
   "metadata": {},
   "outputs": [
    {
     "name": "stdout",
     "output_type": "stream",
     "text": [
      "\n",
      "[ 1.  1.  1. ... -1. -1. -1.]\n",
      "<NDArray 16000 @cpu(0)>\n",
      "epoch 0, loss: 3744.067871\n",
      "epoch 1, loss: 3223.222900\n",
      "epoch 2, loss: 1034.274170\n",
      "epoch 3, loss: 2775.221191\n",
      "epoch 4, loss: 2080.456055\n",
      "epoch 5, loss: 1108.661987\n",
      "epoch 6, loss: 2918.534668\n",
      "epoch 7, loss: 3443.694580\n",
      "epoch 8, loss: 2521.323730\n",
      "epoch 9, loss: 1301.726440\n",
      "epoch 10, loss: 1714.048584\n",
      "epoch 11, loss: 1421.738770\n",
      "epoch 12, loss: 1201.814209\n",
      "epoch 13, loss: 4083.874268\n",
      "epoch 14, loss: 754.815308\n",
      "epoch 15, loss: 1624.795044\n",
      "epoch 16, loss: 2816.681885\n",
      "epoch 17, loss: 2397.985107\n",
      "epoch 18, loss: 1037.171265\n",
      "epoch 19, loss: 1069.557983\n"
     ]
    },
    {
     "data": {
      "text/plain": [
       "\n",
       "[[-161.50974]\n",
       " [2786.992  ]\n",
       " [  14.17483]\n",
       " ...\n",
       " [5453.8535 ]\n",
       " [ 379.6688 ]\n",
       " [7792.6426 ]]\n",
       "<NDArray 16000x1 @cpu(0)>"
      ]
     },
     "execution_count": 98,
     "metadata": {},
     "output_type": "execute_result"
    }
   ],
   "source": [
    "train_for_weights(b1_train_data,b1_train_labels)"
   ]
  },
  {
   "cell_type": "markdown",
   "metadata": {},
   "source": [
    "3.3. Was unable to obtain proper weights for either class - both the weights went to inf since the function was taking the exp of a large number and the binary classifier did not converge when training to differentiate between train and test sets. However, we would expect the weights to be different"
   ]
  },
  {
   "cell_type": "markdown",
   "metadata": {},
   "source": [
    "3.4"
   ]
  },
  {
   "cell_type": "code",
   "execution_count": 75,
   "metadata": {},
   "outputs": [],
   "source": [
    "#if part 3 had worked, we would weight each training step by exp(net(xi)) in the training loop, however \n",
    "#the weights from the above part are unreliable since the binary classifier did not work very well and we \n",
    "#are left with meaningless weights\n",
    "\n",
    "\n",
    "def train_with_shift(Xtrain, ytrain, Xtest, ytest):\n",
    "    batch_size = 64\n",
    "    num_epochs = 20\n",
    "    \n",
    "    train_dataset = gdata.ArrayDataset(Xtrain, ytrain)\n",
    "    train_iter = gdata.DataLoader(train_dataset, batch_size, shuffle=True)\n",
    "\n",
    "    def loss(o, y):\n",
    "        loss = gluon.loss.LogisticLoss()\n",
    "        return loss(o, y)\n",
    "\n",
    "    def net():\n",
    "        net = nn.Sequential()\n",
    "        net.add(nn.Dense(1))\n",
    "        net.initialize(init.Normal(sigma=1))\n",
    "        return net\n",
    "\n",
    "    net = net()\n",
    "    trainer = gluon.Trainer(net.collect_params(), 'sgd', {'learning_rate': 0.1})\n",
    "    for epoch in range(num_epochs):\n",
    "        for X, y in train_iter:\n",
    "            with autograd.record():\n",
    "                l = nd.exp(min(net(X), 1)) * loss(net(X), y)\n",
    "            l.backward()\n",
    "            trainer.step(batch_size)\n",
    "        l = loss(net(Xtrain), ytrain)\n",
    "        print('epoch %d, loss: %f' % (epoch, l.mean().asnumpy()))\n",
    "    \n",
    "    return net(Xtest)\n"
   ]
  }
 ],
 "metadata": {
  "kernelspec": {
   "display_name": "Python 3",
   "language": "python",
   "name": "python3"
  },
  "language_info": {
   "codemirror_mode": {
    "name": "ipython",
    "version": 3
   },
   "file_extension": ".py",
   "mimetype": "text/x-python",
   "name": "python",
   "nbconvert_exporter": "python",
   "pygments_lexer": "ipython3",
   "version": "3.6.5"
  }
 },
 "nbformat": 4,
 "nbformat_minor": 2
}
